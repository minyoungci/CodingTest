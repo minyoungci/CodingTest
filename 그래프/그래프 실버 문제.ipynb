{
 "cells": [
  {
   "cell_type": "markdown",
   "id": "a9a20217",
   "metadata": {},
   "source": [
    "### 백준 14940 : 쉬운 최단 거리"
   ]
  },
  {
   "cell_type": "code",
   "execution_count": 7,
   "id": "1874b847",
   "metadata": {},
   "outputs": [
    {
     "name": "stdout",
     "output_type": "stream",
     "text": [
      "5 5\n",
      "2 1 1 1 1\n",
      "1 1 1 1 1\n",
      "1 1 1 1 1\n",
      "1 1 1 1 1\n",
      "1 1 1 1 1\n",
      "0 1 2 3 4 \n",
      "1 2 3 4 5 \n",
      "2 3 4 5 6 \n",
      "3 4 5 6 7 \n",
      "4 5 6 7 8 \n"
     ]
    }
   ],
   "source": [
    "from collections import deque\n",
    "\n",
    "n,m = map(int, input().split())\n",
    "\n",
    "maps = [list(map(int, input().split())) for _ in range(n)]\n",
    "visited = [[-1]*m for _ in range(n)]\n",
    "\n",
    "dx = [-1,1,0,0]\n",
    "dy = [0,0,-1,1]\n",
    "\n",
    "def bfs(x,y):\n",
    "    queue=deque()\n",
    "    queue.append([x,y])\n",
    "    \n",
    "    visited[x][y] = 0\n",
    "    \n",
    "    while queue :\n",
    "        r, c = queue.popleft()\n",
    "        \n",
    "        for i in range(4):\n",
    "            rr = r + dx[i]\n",
    "            cc = c + dy[i]\n",
    "            \n",
    "            if (0<=rr<n) and (0<=cc<m) and visited[rr][cc] == -1:\n",
    "                if maps[rr][cc] == 0:\n",
    "                    visited[rr][cc] = 0\n",
    "                    \n",
    "                elif maps[rr][cc] == 1:\n",
    "                    visited[rr][cc] = visited[r][c] + 1\n",
    "                    queue.append([rr,cc])\n",
    "                    \n",
    "for i in range(n):\n",
    "    for k in range(m):\n",
    "        if maps[i][k] == 2 and visited[i][k] == -1:\n",
    "            bfs(i,k)\n",
    "            \n",
    "for i in range(n):\n",
    "    for k in range(m):\n",
    "        if maps[i][k] == 0 :\n",
    "            print(0, end = \" \")\n",
    "        else:\n",
    "            print(visited[i][k], end=\" \")\n",
    "            \n",
    "        \n",
    "    print()  "
   ]
  }
 ],
 "metadata": {
  "kernelspec": {
   "display_name": "Python 3 (ipykernel)",
   "language": "python",
   "name": "python3"
  },
  "language_info": {
   "codemirror_mode": {
    "name": "ipython",
    "version": 3
   },
   "file_extension": ".py",
   "mimetype": "text/x-python",
   "name": "python",
   "nbconvert_exporter": "python",
   "pygments_lexer": "ipython3",
   "version": "3.9.13"
  }
 },
 "nbformat": 4,
 "nbformat_minor": 5
}
