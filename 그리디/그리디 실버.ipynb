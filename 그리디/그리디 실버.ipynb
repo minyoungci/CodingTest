{
 "cells": [
  {
   "cell_type": "markdown",
   "id": "74648eca",
   "metadata": {},
   "source": [
    "## 백준 : 20115 에너지 드링크"
   ]
  },
  {
   "cell_type": "code",
   "execution_count": 3,
   "id": "fceff931",
   "metadata": {},
   "outputs": [
    {
     "name": "stdout",
     "output_type": "stream",
     "text": [
      "5\n",
      "3 2 10 9 6\n",
      "20\n"
     ]
    }
   ],
   "source": [
    "n = int(input())\n",
    "\n",
    "amount = list(map(int, input().split()))\n",
    "\n",
    "amount.sort(reverse=True)\n",
    "sum = amount[0]\n",
    "\n",
    "for i in range(1, n):\n",
    "    sum += amount[i]/2\n",
    "    \n",
    "print(\"%g\"%sum)"
   ]
  },
  {
   "cell_type": "markdown",
   "id": "9257445c",
   "metadata": {},
   "source": [
    "## 백준 : 20300 서강 근육맨"
   ]
  },
  {
   "cell_type": "code",
   "execution_count": 7,
   "id": "f8b18f81",
   "metadata": {},
   "outputs": [
    {
     "name": "stdout",
     "output_type": "stream",
     "text": [
      "5\n",
      "1 2 3 4 5\n"
     ]
    },
    {
     "data": {
      "text/plain": [
       "[3, 5, 7, 9]"
      ]
     },
     "execution_count": 7,
     "metadata": {},
     "output_type": "execute_result"
    }
   ],
   "source": [
    "n=int(input())\n",
    "loss=list(map(int,input().split()))\n",
    "\n",
    "tmp=[]\n",
    "loss.sort()\n",
    "\n",
    "if(n%2==1):\n",
    "    tmp.append(loss[-1])\n",
    "    loss=loss[:-1]\n",
    "    \n",
    "for i in range(len(loss)//2):\n",
    "        tmp.append(loss[i]+loss[len(loss)-1-i])\n",
    "        \n",
    "print(max(tmp))"
   ]
  },
  {
   "cell_type": "markdown",
   "id": "e27833f5",
   "metadata": {},
   "source": [
    "## 백준 20365 : 블로그2"
   ]
  },
  {
   "cell_type": "code",
   "execution_count": null,
   "id": "d662ccc3",
   "metadata": {},
   "outputs": [],
   "source": [
    "N = int(input())\n",
    "colors = input()\n",
    "\n",
    "cdict = {'B':0, 'R':0}\n",
    "precolor = ''\n",
    "for color in colors:\n",
    "    if color != precolor:\n",
    "        cdict[color]+=1\n",
    "    precolor=color\n",
    "\n",
    "count = cdict['R']+1 if cdict['B']>cdict['R'] else cdict['B']+1\n",
    "print(count) "
   ]
  },
  {
   "cell_type": "code",
   "execution_count": 18,
   "id": "caa2b2b2",
   "metadata": {},
   "outputs": [
    {
     "data": {
      "text/plain": [
       "Counter({'B': 6, 'R': 3})"
      ]
     },
     "execution_count": 18,
     "metadata": {},
     "output_type": "execute_result"
    }
   ],
   "source": [
    "from collections import Counter\n",
    "\n",
    "a = 'BBRBBRBBR'\n",
    "\n",
    "countcolor = Counter(a)\n",
    "countcolor"
   ]
  },
  {
   "cell_type": "markdown",
   "id": "0cdb3743",
   "metadata": {},
   "source": [
    "## 백준 11000 : 강의실 배정"
   ]
  },
  {
   "cell_type": "code",
   "execution_count": 1,
   "id": "64ae0824",
   "metadata": {},
   "outputs": [
    {
     "name": "stdout",
     "output_type": "stream",
     "text": [
      "3\n",
      "1 3\n",
      "2 4\n",
      "3 5\n",
      "2\n"
     ]
    }
   ],
   "source": [
    "import heapq\n",
    "n = int(input())\n",
    "\n",
    "q = []\n",
    "\n",
    "for i in range(n):\n",
    "    start, end = map(int, input().split())\n",
    "    q.append([start, end])\n",
    "\n",
    "q.sort()\n",
    "\n",
    "room = []\n",
    "heapq.heappush(room, q[0][1])\n",
    "\n",
    "for i in range(1, n):\n",
    "    if q[i][0] < room[0]: # 현재 회의실 끝나는 시간보다 다음 회의 시작시간이 빠르면\n",
    "        heapq.heappush(room, q[i][1]) # 새로운 회의실 개설\n",
    "    else: # 현재 회의실에 이어서 회의 개최 가능\n",
    "        heapq.heappop(room) # 새로운 회의로 시간 변경을 위해 pop후 새 시간 push\n",
    "        heapq.heappush(room, q[i][1])\n",
    "\n",
    "print(len(room))\n"
   ]
  },
  {
   "cell_type": "markdown",
   "id": "45c9886d",
   "metadata": {},
   "source": [
    "## 백준 1946 : 신입 사원"
   ]
  },
  {
   "cell_type": "code",
   "execution_count": 14,
   "id": "cf4baddb",
   "metadata": {},
   "outputs": [
    {
     "name": "stdout",
     "output_type": "stream",
     "text": [
      "1\n",
      "3\n",
      "3 3\n",
      "2 9\n",
      "5 9\n",
      "2\n"
     ]
    }
   ],
   "source": [
    "T = int(input())\n",
    "\n",
    "for _ in range(T):\n",
    "    number = int(input())\n",
    "    rank = [list(map(int, input().split())) for _ in range(number)]\n",
    "    rank_asc = sorted(rank)\n",
    "    top= 0\n",
    "    result =1\n",
    "    \n",
    "    for i in range(1,len(rank)):\n",
    "        \n",
    "        if rank_asc[i][1] < rank_asc[top][1]:\n",
    "                top = i\n",
    "                result += 1\n",
    "            \n",
    "    print(result)"
   ]
  },
  {
   "cell_type": "code",
   "execution_count": 9,
   "id": "735da3fe",
   "metadata": {},
   "outputs": [
    {
     "data": {
      "text/plain": [
       "[1, 3, 6, 6, 25, 34]"
      ]
     },
     "execution_count": 9,
     "metadata": {},
     "output_type": "execute_result"
    }
   ],
   "source": [
    "a = [1,3,25,6,34,6]\n",
    "sorted(a)"
   ]
  }
 ],
 "metadata": {
  "kernelspec": {
   "display_name": "Python 3 (ipykernel)",
   "language": "python",
   "name": "python3"
  },
  "language_info": {
   "codemirror_mode": {
    "name": "ipython",
    "version": 3
   },
   "file_extension": ".py",
   "mimetype": "text/x-python",
   "name": "python",
   "nbconvert_exporter": "python",
   "pygments_lexer": "ipython3",
   "version": "3.9.13"
  }
 },
 "nbformat": 4,
 "nbformat_minor": 5
}
