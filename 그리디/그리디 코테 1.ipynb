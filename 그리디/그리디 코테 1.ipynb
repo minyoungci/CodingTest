{
 "cells": [
  {
   "cell_type": "code",
   "execution_count": 17,
   "id": "6a05e7cb",
   "metadata": {},
   "outputs": [
    {
     "ename": "ValueError",
     "evalue": "invalid literal for int() with base 10: ''",
     "output_type": "error",
     "traceback": [
      "\u001b[0;31m---------------------------------------------------------------------------\u001b[0m",
      "\u001b[0;31mValueError\u001b[0m                                Traceback (most recent call last)",
      "\u001b[0;32m/var/folders/kc/pnqhxb8x4k3f1ggr1prj4mrm0000gn/T/ipykernel_69471/3199792652.py\u001b[0m in \u001b[0;36m<module>\u001b[0;34m\u001b[0m\n\u001b[0;32m----> 1\u001b[0;31m \u001b[0mn\u001b[0m \u001b[0;34m=\u001b[0m \u001b[0mint\u001b[0m\u001b[0;34m(\u001b[0m\u001b[0minput\u001b[0m\u001b[0;34m(\u001b[0m\u001b[0;34m)\u001b[0m\u001b[0;34m)\u001b[0m\u001b[0;34m\u001b[0m\u001b[0;34m\u001b[0m\u001b[0m\n\u001b[0m\u001b[1;32m      2\u001b[0m \u001b[0;34m\u001b[0m\u001b[0m\n\u001b[1;32m      3\u001b[0m \u001b[0mcnt\u001b[0m \u001b[0;34m=\u001b[0m \u001b[0;36m0\u001b[0m\u001b[0;34m\u001b[0m\u001b[0;34m\u001b[0m\u001b[0m\n\u001b[1;32m      4\u001b[0m \u001b[0mi\u001b[0m \u001b[0;34m=\u001b[0m \u001b[0;36m0\u001b[0m\u001b[0;34m\u001b[0m\u001b[0;34m\u001b[0m\u001b[0m\n\u001b[1;32m      5\u001b[0m \u001b[0;32mwhile\u001b[0m \u001b[0;32mTrue\u001b[0m\u001b[0;34m:\u001b[0m\u001b[0;34m\u001b[0m\u001b[0;34m\u001b[0m\u001b[0m\n",
      "\u001b[0;31mValueError\u001b[0m: invalid literal for int() with base 10: ''"
     ]
    }
   ],
   "source": [
    "# 백준 거스름돈\n",
    "n = int(input())\n",
    "\n",
    "cnt = 0\n",
    "i = 0\n",
    "while True:\n",
    "    if n % 5 == 0:   # 5의배수이면 or 2로만 거슬러주고 n이 0이된경우 \n",
    "        cnt += n//5\t\t#5로나눈 몫이 정답 \n",
    "        break\n",
    "    else:\n",
    "        n -= 2   #5의배수가 아니면 2백원씩 뺴면서 5로 나누어떨어지는것이 나오도록\n",
    "        cnt += 1\n",
    "\n",
    "    if n < 0:  # 2백원씩 뺏더니 음수가 되버린경우 --> 거슬러줄수 없을을 의미함 \n",
    "        break\n",
    "if n<0:\t\t\t# 음수면 거슬러줄수없 \n",
    "    print(-1)\t\t\t\n",
    "else:\n",
    "    print(cnt)"
   ]
  },
  {
   "cell_type": "code",
   "execution_count": 3,
   "id": "be2a1ac1",
   "metadata": {},
   "outputs": [
    {
     "name": "stdout",
     "output_type": "stream",
     "text": [
      "XXXXXX\n",
      "AAAABB\n"
     ]
    }
   ],
   "source": [
    "# 백준 폴리오미노\n",
    "\n",
    "board = input()\n",
    "\n",
    "board = board.replace('XXXX','AAAA')\n",
    "board = board.replace('XX', 'BB')\n",
    "\n",
    "if 'X' in board:\n",
    "    print(-1)\n",
    "    \n",
    "else:\n",
    "    print(board)"
   ]
  },
  {
   "cell_type": "code",
   "execution_count": null,
   "id": "cd277abd",
   "metadata": {},
   "outputs": [],
   "source": [
    "# 백준 2217 : 로프 \n",
    "\n",
    "n = int(input())\n",
    "\n",
    "weight = []\n",
    "m = []\n",
    "\n",
    "for i in range(n):\n",
    "    m.append(int(input()))\n",
    "    \n",
    "m.sort(reverse=True)\n",
    "\n",
    "for num in range(n):\n",
    "    weight.append(m[num] * (num+1))\n",
    "    \n",
    "print(max(weight))"
   ]
  },
  {
   "cell_type": "markdown",
   "id": "6e31eddc",
   "metadata": {},
   "source": [
    "### 백준 1758 : 알바생 상호"
   ]
  },
  {
   "cell_type": "code",
   "execution_count": 21,
   "id": "69dbdf37",
   "metadata": {},
   "outputs": [
    {
     "name": "stdout",
     "output_type": "stream",
     "text": [
      "4\n",
      "3\n",
      "3\n",
      "3\n",
      "3\n",
      "6\n"
     ]
    }
   ],
   "source": [
    "n = int(input())\n",
    " \n",
    "li = []\n",
    "\n",
    "for i in range(n):\n",
    "    li.append(int(input()))\n",
    " \n",
    "li.sort(reverse=True)\n",
    " \n",
    "total = 0\n",
    "for i in range(n):\n",
    "    ans = li[i] - i\n",
    "    if ans < 0:\n",
    "        break\n",
    "    total += li[i] - i\n",
    " \n",
    "print(total)"
   ]
  }
 ],
 "metadata": {
  "kernelspec": {
   "display_name": "Python 3 (ipykernel)",
   "language": "python",
   "name": "python3"
  },
  "language_info": {
   "codemirror_mode": {
    "name": "ipython",
    "version": 3
   },
   "file_extension": ".py",
   "mimetype": "text/x-python",
   "name": "python",
   "nbconvert_exporter": "python",
   "pygments_lexer": "ipython3",
   "version": "3.9.13"
  }
 },
 "nbformat": 4,
 "nbformat_minor": 5
}
