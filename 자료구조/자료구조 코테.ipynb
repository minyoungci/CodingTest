{
 "cells": [
  {
   "cell_type": "markdown",
   "id": "fa6c39d9",
   "metadata": {},
   "source": [
    "### 백준 10828 : 스택"
   ]
  },
  {
   "cell_type": "code",
   "execution_count": null,
   "id": "8e7df9a8",
   "metadata": {},
   "outputs": [],
   "source": [
    "import sys \n",
    "\n",
    "n = int(sys.stdin.readline())\n",
    "\n",
    "stack = []\n",
    "\n",
    "for _ in range(n):\n",
    "    word = sys.stdin.readline().split()\n",
    "    order = word[0]\n",
    "    \n",
    "    if order == \"push\":\n",
    "        value = word[1]\n",
    "        stack.append(value)\n",
    "        \n",
    "    elif order == \"pop\":\n",
    "        if len(stack) == 0:\n",
    "            print(-1)\n",
    "        \n",
    "        else: \n",
    "            print(stack.pop())\n",
    "            \n",
    "    elif order == \"size\":\n",
    "        print(len(stack))\n",
    "        \n",
    "    elif order == \"empty\":\n",
    "        if len(stack) == 0:\n",
    "            print(1)\n",
    "            \n",
    "        else:\n",
    "            print(0)\n",
    "            \n",
    "    elif order == \"top\":\n",
    "        if len(stack) == 0:\n",
    "            print(-1)\n",
    "            \n",
    "        else: \n",
    "            print(stack[-1])"
   ]
  },
  {
   "cell_type": "markdown",
   "id": "18d9de51",
   "metadata": {},
   "source": [
    "### 백준 9012 : 괄호"
   ]
  },
  {
   "cell_type": "code",
   "execution_count": 15,
   "id": "905121fb",
   "metadata": {},
   "outputs": [
    {
     "name": "stdout",
     "output_type": "stream",
     "text": [
      "3\n",
      "(())())\n",
      "NO\n",
      "(())())\n",
      "NO\n",
      "((()()(()))(((())))()\n",
      "NO\n"
     ]
    }
   ],
   "source": [
    "n = int(input())\n",
    "\n",
    "for _ in range(n):\n",
    "    line = input()\n",
    "    stack = []\n",
    "\n",
    "    for i in line:\n",
    "        if i == '(':\n",
    "            stack.append('(')\n",
    "        elif i == ')':\n",
    "            if len(stack) == 0:\n",
    "                stack.append(')')\n",
    "                break\n",
    "            else:\n",
    "                stack.pop()\n",
    "\n",
    "    if len(stack) != 0:\n",
    "        print('NO')\n",
    "    else:\n",
    "        print('YES')\n",
    "        "
   ]
  },
  {
   "cell_type": "markdown",
   "id": "d97e7cbe",
   "metadata": {},
   "source": [
    "### 백주 18258 : 큐 2"
   ]
  },
  {
   "cell_type": "code",
   "execution_count": 16,
   "id": "b978690d",
   "metadata": {},
   "outputs": [
    {
     "ename": "ValueError",
     "evalue": "invalid literal for int() with base 10: ''",
     "output_type": "error",
     "traceback": [
      "\u001b[0;31m---------------------------------------------------------------------------\u001b[0m",
      "\u001b[0;31mValueError\u001b[0m                                Traceback (most recent call last)",
      "\u001b[0;32m/var/folders/kc/pnqhxb8x4k3f1ggr1prj4mrm0000gn/T/ipykernel_4651/1664876838.py\u001b[0m in \u001b[0;36m<module>\u001b[0;34m\u001b[0m\n\u001b[1;32m      3\u001b[0m \u001b[0;34m\u001b[0m\u001b[0m\n\u001b[1;32m      4\u001b[0m \u001b[0mqueue\u001b[0m \u001b[0;34m=\u001b[0m \u001b[0mdeque\u001b[0m\u001b[0;34m(\u001b[0m\u001b[0;34m)\u001b[0m\u001b[0;34m\u001b[0m\u001b[0;34m\u001b[0m\u001b[0m\n\u001b[0;32m----> 5\u001b[0;31m \u001b[0mN\u001b[0m \u001b[0;34m=\u001b[0m \u001b[0mint\u001b[0m\u001b[0;34m(\u001b[0m\u001b[0msys\u001b[0m\u001b[0;34m.\u001b[0m\u001b[0mstdin\u001b[0m\u001b[0;34m.\u001b[0m\u001b[0mreadline\u001b[0m\u001b[0;34m(\u001b[0m\u001b[0;34m)\u001b[0m\u001b[0;34m)\u001b[0m\u001b[0;34m\u001b[0m\u001b[0;34m\u001b[0m\u001b[0m\n\u001b[0m\u001b[1;32m      6\u001b[0m \u001b[0;34m\u001b[0m\u001b[0m\n\u001b[1;32m      7\u001b[0m \u001b[0;32mfor\u001b[0m \u001b[0m_\u001b[0m \u001b[0;32min\u001b[0m \u001b[0mrange\u001b[0m\u001b[0;34m(\u001b[0m\u001b[0mN\u001b[0m\u001b[0;34m)\u001b[0m \u001b[0;34m:\u001b[0m\u001b[0;34m\u001b[0m\u001b[0;34m\u001b[0m\u001b[0m\n",
      "\u001b[0;31mValueError\u001b[0m: invalid literal for int() with base 10: ''"
     ]
    }
   ],
   "source": [
    "import sys\n",
    "from collections import deque\n",
    "\n",
    "queue = deque()\n",
    "N = int(sys.stdin.readline())\n",
    "\n",
    "for _ in range(N) :\n",
    "    i = sys.stdin.readline().split()\n",
    "\n",
    "    if i[0] == 'push' :\n",
    "        queue.append(int(i[1]))\n",
    "    \n",
    "    elif i[0] == 'pop' :\n",
    "        if not queue :\n",
    "            print (-1)\n",
    "        else :\n",
    "            print(queue[0])\n",
    "            queue.popleft()\n",
    "    \n",
    "    elif i[0] == 'size' :\n",
    "        print(len(queue))\n",
    "    \n",
    "    elif i[0] == 'empty' :\n",
    "        if len(queue) == 0 :\n",
    "            print(1)\n",
    "        else :\n",
    "            print(0)\n",
    "    \n",
    "    elif i[0] == 'front' :\n",
    "        if not queue:\n",
    "            print(-1)\n",
    "        else :\n",
    "            print(queue[0])\n",
    "    \n",
    "    elif i[0] == 'back' :\n",
    "        if not queue :\n",
    "            print(-1)\n",
    "        else :\n",
    "            print(queue[-1])\n"
   ]
  },
  {
   "cell_type": "markdown",
   "id": "27d2f3c7",
   "metadata": {},
   "source": [
    "### 백준 1158 : 요세푸스 \n",
    "\n",
    "### 다시 풀기"
   ]
  },
  {
   "cell_type": "code",
   "execution_count": 31,
   "id": "8ece20c5",
   "metadata": {},
   "outputs": [
    {
     "name": "stdout",
     "output_type": "stream",
     "text": [
      "9 5\n",
      "[5, 1, 7, 4, 3, 6, 9, 2, 8]\n"
     ]
    }
   ],
   "source": [
    "N,K = map(int,input().split())\n",
    "\n",
    "arr = [i for i in range(1,N+1)]\n",
    "\n",
    "answer = []\n",
    "num = 0 \n",
    "\n",
    "for t in range(N):\n",
    "    num += K-1\n",
    "    \n",
    "    if num >= len(arr):\n",
    "        num = num % len(arr)\n",
    "        \n",
    "    answer.append(arr.pop(num))\n",
    "    \n",
    "print(answer)"
   ]
  },
  {
   "cell_type": "markdown",
   "id": "691c1f9e",
   "metadata": {},
   "source": [
    "### 백준 2164 : 카드 2 "
   ]
  },
  {
   "cell_type": "code",
   "execution_count": 51,
   "id": "71fe349d",
   "metadata": {},
   "outputs": [
    {
     "name": "stdout",
     "output_type": "stream",
     "text": [
      "3\n",
      "2\n"
     ]
    }
   ],
   "source": [
    "N = int(input())\n",
    "L = list(range(1,N+1))\n",
    "\n",
    "\n",
    "while (len(L)>1):\n",
    "    L.pop(0)\n",
    "    temp = L.pop(0)\n",
    "    L.append(temp)\n",
    "\n",
    "\n",
    "print(L.pop(0))"
   ]
  },
  {
   "cell_type": "code",
   "execution_count": 44,
   "id": "8e7f29c8",
   "metadata": {},
   "outputs": [
    {
     "data": {
      "text/plain": [
       "1"
      ]
     },
     "execution_count": 44,
     "metadata": {},
     "output_type": "execute_result"
    }
   ],
   "source": [
    "from collections import deque\n",
    "\n",
    "N = int(input())\n",
    "deque = deque([i for i in range(1, N+1)])\n",
    "\n",
    "while(len(deque) >1):\n",
    "    deque.popleft()\n",
    "    move_num = deque.popleft()\n",
    "    deque.append(move_num)\n",
    "    \n",
    "print(deque[0])"
   ]
  }
 ],
 "metadata": {
  "kernelspec": {
   "display_name": "Python 3 (ipykernel)",
   "language": "python",
   "name": "python3"
  },
  "language_info": {
   "codemirror_mode": {
    "name": "ipython",
    "version": 3
   },
   "file_extension": ".py",
   "mimetype": "text/x-python",
   "name": "python",
   "nbconvert_exporter": "python",
   "pygments_lexer": "ipython3",
   "version": "3.9.13"
  }
 },
 "nbformat": 4,
 "nbformat_minor": 5
}
