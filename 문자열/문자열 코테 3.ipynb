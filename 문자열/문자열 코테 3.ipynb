{
 "cells": [
  {
   "cell_type": "markdown",
   "id": "4a1a01ad",
   "metadata": {},
   "source": [
    "### 백준 1316 : 그룹 단어 체커"
   ]
  },
  {
   "cell_type": "code",
   "execution_count": 4,
   "id": "7580f0d6",
   "metadata": {},
   "outputs": [
    {
     "name": "stdout",
     "output_type": "stream",
     "text": [
      "3\n",
      "happy\n",
      "new\n",
      "year\n",
      "3\n"
     ]
    }
   ],
   "source": [
    "n = int(input())\n",
    "\n",
    "cnt = n\n",
    "\n",
    "for i in range(n):\n",
    "    word = input()\n",
    "    \n",
    "    for j in range(0, len(word)-1):\n",
    "        if word[j] == word[j+1]:\n",
    "            pass\n",
    "        elif word[j] in word[j+1:]:\n",
    "            cnt -= 1\n",
    "            break\n",
    "    \n",
    "print(cnt)"
   ]
  },
  {
   "cell_type": "code",
   "execution_count": 5,
   "id": "efacf4c4",
   "metadata": {},
   "outputs": [
    {
     "name": "stdout",
     "output_type": "stream",
     "text": [
      "4\n",
      "aba\n",
      "abab\n",
      "abcabc\n",
      "abc\n",
      "1\n"
     ]
    }
   ],
   "source": [
    "n = int(input())\n",
    "\n",
    "cnt = n\n",
    "\n",
    "for i in range(n):\n",
    "    word = input()\n",
    "    \n",
    "    for j in range(0, len(word)-1):\n",
    "        if word[j] == word[j+1]:\n",
    "            pass\n",
    "        elif word[j] in word[j+1:]:\n",
    "            cnt -= 1\n",
    "            break\n",
    "            \n",
    "print(cnt)"
   ]
  },
  {
   "cell_type": "markdown",
   "id": "f5061dde",
   "metadata": {},
   "source": [
    "## 백준 1181 : 단어 정렬"
   ]
  },
  {
   "cell_type": "code",
   "execution_count": 23,
   "id": "d116a38c",
   "metadata": {},
   "outputs": [
    {
     "name": "stdout",
     "output_type": "stream",
     "text": [
      "13\n",
      "but\n",
      "i\n",
      "wont\n",
      "hestitate\n",
      "no\n",
      "more\n",
      "no\n",
      "more\n",
      "it\n",
      "cannot\n",
      "wait\n",
      "im\n",
      "yours\n",
      "i\n",
      "im\n",
      "it\n",
      "no\n",
      "but\n",
      "more\n",
      "wait\n",
      "wont\n",
      "yours\n",
      "cannot\n",
      "hestitate\n"
     ]
    }
   ],
   "source": [
    "## 길이가 짧은 것부터 정렬하는 방법 모름\n",
    "\n",
    "n = int(input())\n",
    "\n",
    "result = []\n",
    "\n",
    "for i in range(n):\n",
    "    word = input()\n",
    "    \n",
    "    if word in result:\n",
    "        pass\n",
    "    \n",
    "    elif word:\n",
    "        result.append(word)\n",
    "    \n",
    "result.sort()\n",
    "result.sort(key = len)\n",
    "    \n",
    "for j in result:\n",
    "    print(j)"
   ]
  },
  {
   "cell_type": "markdown",
   "id": "51f8c075",
   "metadata": {},
   "source": [
    "위 문제의 조건은 \n",
    "\n",
    "1. 길이가 짧은 것부터 -> result.sort(key = len)\n",
    "2. 길이가 같으면 사전 순으로 -> result.sort() 는 알아서 알파벳순 나열 "
   ]
  },
  {
   "cell_type": "code",
   "execution_count": 24,
   "id": "eb19062b",
   "metadata": {},
   "outputs": [
    {
     "name": "stdout",
     "output_type": "stream",
     "text": [
      "s\n"
     ]
    },
    {
     "ename": "ValueError",
     "evalue": "invalid literal for int() with base 10: 's'",
     "output_type": "error",
     "traceback": [
      "\u001b[0;31m---------------------------------------------------------------------------\u001b[0m",
      "\u001b[0;31mValueError\u001b[0m                                Traceback (most recent call last)",
      "\u001b[0;32m/var/folders/kc/pnqhxb8x4k3f1ggr1prj4mrm0000gn/T/ipykernel_61696/3534574743.py\u001b[0m in \u001b[0;36m<module>\u001b[0;34m\u001b[0m\n\u001b[1;32m      1\u001b[0m \u001b[0;31m## 다른 풀이\u001b[0m\u001b[0;34m\u001b[0m\u001b[0;34m\u001b[0m\u001b[0m\n\u001b[1;32m      2\u001b[0m \u001b[0;34m\u001b[0m\u001b[0m\n\u001b[0;32m----> 3\u001b[0;31m \u001b[0mn\u001b[0m \u001b[0;34m=\u001b[0m \u001b[0mint\u001b[0m\u001b[0;34m(\u001b[0m\u001b[0minput\u001b[0m\u001b[0;34m(\u001b[0m\u001b[0;34m)\u001b[0m\u001b[0;34m)\u001b[0m\u001b[0;34m\u001b[0m\u001b[0;34m\u001b[0m\u001b[0m\n\u001b[0m\u001b[1;32m      4\u001b[0m \u001b[0;34m\u001b[0m\u001b[0m\n\u001b[1;32m      5\u001b[0m \u001b[0mword\u001b[0m \u001b[0;34m=\u001b[0m \u001b[0;34m[\u001b[0m\u001b[0;34m]\u001b[0m\u001b[0;34m\u001b[0m\u001b[0;34m\u001b[0m\u001b[0m\n",
      "\u001b[0;31mValueError\u001b[0m: invalid literal for int() with base 10: 's'"
     ]
    }
   ],
   "source": [
    "## 다른 풀이 \n",
    "\n",
    "n = int(input())\n",
    "\n",
    "word = []\n",
    "\n",
    "for i in range(n):\n",
    "    word.append(input())\n",
    "    \n",
    "set_word = list(set(word))  ## set 함수로 중복값 제거한 후 다시 list \n",
    "\n",
    "\n",
    "set_word = []\n",
    "\n",
    "for i in set_word:\n",
    "    sort_word.append(len(i), i )\n",
    "    \n",
    "result = sorted(sort_word)\n",
    "\n",
    "for len_word, word in result:\n",
    "    print(word)"
   ]
  },
  {
   "cell_type": "markdown",
   "id": "cc5a368e",
   "metadata": {},
   "source": [
    "## 백준 6550 : 부분문자열"
   ]
  },
  {
   "cell_type": "code",
   "execution_count": 30,
   "id": "ec96c6ce",
   "metadata": {},
   "outputs": [
    {
     "name": "stdout",
     "output_type": "stream",
     "text": [
      "sequence\n",
      "\n"
     ]
    },
    {
     "data": {
      "text/plain": [
       "\"['s', 'e', 'q', 'u', 'e', 'n', 'c', 'e']\""
      ]
     },
     "execution_count": 30,
     "metadata": {},
     "output_type": "execute_result"
    }
   ],
   "source": [
    "while True :\n",
    "  try :\n",
    "    s, t = input().split()\n",
    "    \n",
    "    value = 0\n",
    "    flag = 0\n",
    "    for i in range(len(t)) :\n",
    "      if t[i] == s[value] :\n",
    "        value += 1\n",
    "        if value == len(s) :\n",
    "          flag = 1\n",
    "          break\n",
    "\n",
    "    if flag == 1 :\n",
    "      print('Yes')\n",
    "    else :\n",
    "      print('No')\n",
    "\n",
    "  except :\n",
    "    break"
   ]
  },
  {
   "cell_type": "code",
   "execution_count": 28,
   "id": "4092885e",
   "metadata": {},
   "outputs": [
    {
     "data": {
      "text/plain": [
       "['s']"
      ]
     },
     "execution_count": 28,
     "metadata": {},
     "output_type": "execute_result"
    }
   ],
   "source": []
  }
 ],
 "metadata": {
  "kernelspec": {
   "display_name": "Python 3 (ipykernel)",
   "language": "python",
   "name": "python3"
  },
  "language_info": {
   "codemirror_mode": {
    "name": "ipython",
    "version": 3
   },
   "file_extension": ".py",
   "mimetype": "text/x-python",
   "name": "python",
   "nbconvert_exporter": "python",
   "pygments_lexer": "ipython3",
   "version": "3.9.13"
  }
 },
 "nbformat": 4,
 "nbformat_minor": 5
}
