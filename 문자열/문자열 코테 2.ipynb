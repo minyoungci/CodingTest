{
 "cells": [
  {
   "cell_type": "markdown",
   "id": "9c77e45c",
   "metadata": {},
   "source": [
    "### 백준 10798 : 세로읽기"
   ]
  },
  {
   "cell_type": "code",
   "execution_count": 4,
   "id": "09bb3fca",
   "metadata": {},
   "outputs": [
    {
     "name": "stdout",
     "output_type": "stream",
     "text": [
      "ABCDE\n",
      "HJGJT\n",
      "12345\n",
      "23232\n",
      "LLLLL\n",
      "AH12LBJ23LCG32LDJ43LET52L\n"
     ]
    }
   ],
   "source": [
    "words = []\n",
    "length = []\n",
    "\n",
    "for i in range(5):\n",
    "    word = input()\n",
    "    words.append(word)\n",
    "    length.append(len(word))\n",
    "\n",
    "\n",
    "rst = ''\n",
    "\n",
    "for i in range(max(length)):\n",
    "    for j in range(5):\n",
    "        if i < length[j]:\n",
    "            rst += words[j][i]\n",
    "            \n",
    "print(rst)\n"
   ]
  },
  {
   "cell_type": "code",
   "execution_count": 3,
   "id": "8fd26800",
   "metadata": {},
   "outputs": [
    {
     "name": "stdout",
     "output_type": "stream",
     "text": [
      "ABCDE\n",
      "2312\n",
      "32222\n",
      "kaksl\n",
      "nfkn\n",
      "A23knB32afC12kkD22snE2l"
     ]
    }
   ],
   "source": [
    "words = [input() for i in range(5)]\n",
    "\n",
    "for j in range(15):\n",
    "    for i in range(5):\n",
    "        if j < len(words[i]):\n",
    "            print(words[i][j], end='')"
   ]
  },
  {
   "cell_type": "markdown",
   "id": "c2948fac",
   "metadata": {},
   "source": [
    "#### 백준 20154 : 이 구역의 승자는 누구야 ?"
   ]
  },
  {
   "cell_type": "code",
   "execution_count": 21,
   "id": "163e4b02",
   "metadata": {},
   "outputs": [
    {
     "name": "stdout",
     "output_type": "stream",
     "text": [
      "ABCDE\n",
      "I'm a winner!\n"
     ]
    }
   ],
   "source": [
    "alpha='ABCDEFGHIJKLMNOPQRSTUVWXYZ'\n",
    "numbers='32123333113133122212112221'\n",
    "cnt=0\n",
    "\n",
    "s=input()\n",
    "\n",
    "for i in range(len(s)):\n",
    "   cnt+=int (numbers[alpha.index(s[i])])\n",
    "   cnt%=10\n",
    "    \n",
    "if cnt%2==0: print(\"You're the winner?\")\n",
    "else: print(\"I'm a winner!\")"
   ]
  },
  {
   "cell_type": "markdown",
   "id": "8e7b9a0c",
   "metadata": {},
   "source": [
    "#### 백준 16171 : 나는 친구가 적다 "
   ]
  },
  {
   "cell_type": "code",
   "execution_count": 25,
   "id": "09a781b4",
   "metadata": {},
   "outputs": [
    {
     "name": "stdout",
     "output_type": "stream",
     "text": [
      "qwerty\n",
      "\n",
      "1\n"
     ]
    }
   ],
   "source": [
    "## 내장함수를 이용하는 방법\n",
    "\n",
    "import re\n",
    "t1 = input()\n",
    "t2 = input()\n",
    "text = re.findall(t2,re.sub(\"[0-9]\",\"\",t1))\n",
    "if text:\n",
    "    print(1)\n",
    "else:\n",
    "    print(0)"
   ]
  },
  {
   "cell_type": "code",
   "execution_count": null,
   "id": "1851f527",
   "metadata": {},
   "outputs": [],
   "source": [
    "s = input()\n",
    "k = input()\n",
    "l = ''\n",
    "\n",
    "for i in s:\n",
    "    if i < '0' or i > '9':\n",
    "        l += i    \n",
    "        \n",
    "if k in l:\n",
    "    print('1')\n",
    "else:\n",
    "    print('0')"
   ]
  }
 ],
 "metadata": {
  "kernelspec": {
   "display_name": "Python 3 (ipykernel)",
   "language": "python",
   "name": "python3"
  },
  "language_info": {
   "codemirror_mode": {
    "name": "ipython",
    "version": 3
   },
   "file_extension": ".py",
   "mimetype": "text/x-python",
   "name": "python",
   "nbconvert_exporter": "python",
   "pygments_lexer": "ipython3",
   "version": "3.9.13"
  }
 },
 "nbformat": 4,
 "nbformat_minor": 5
}
