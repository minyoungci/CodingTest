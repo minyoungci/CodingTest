{
 "cells": [
  {
   "cell_type": "markdown",
   "id": "7b410428",
   "metadata": {},
   "source": [
    "### 백준 11720 : 숫자의 합"
   ]
  },
  {
   "cell_type": "code",
   "execution_count": 1,
   "id": "06ceff00",
   "metadata": {},
   "outputs": [
    {
     "name": "stdout",
     "output_type": "stream",
     "text": [
      "3\n",
      "124\n",
      "7\n"
     ]
    }
   ],
   "source": [
    "# N개의 숫자가 공백 없이 쓰여있다. 이 숫자를 모두 합해서 출력하는 프로그램을 작성하시오.\n",
    "\n",
    "n = int(input())\n",
    "nums = input()\n",
    "\n",
    "total = 0 \n",
    "\n",
    "for i in nums:\n",
    "    total += int(i)\n",
    "    \n",
    "print(total)"
   ]
  },
  {
   "cell_type": "code",
   "execution_count": 2,
   "id": "484d70e5",
   "metadata": {
    "scrolled": true
   },
   "outputs": [
    {
     "name": "stdout",
     "output_type": "stream",
     "text": [
      "123\n",
      "123\n",
      "6\n"
     ]
    }
   ],
   "source": [
    "# N개의 숫자가 공백 없이 쓰여있다. 이 숫자를 모두 합해서 출력하는 프로그램을 작성하시오.\n",
    "\n",
    "n = input()\n",
    "\n",
    "print(sum(map(int, input())))"
   ]
  },
  {
   "cell_type": "markdown",
   "id": "74a86747",
   "metadata": {},
   "source": [
    "### 백준 11365 : !밀비 급일"
   ]
  },
  {
   "cell_type": "code",
   "execution_count": 3,
   "id": "1abd8c53",
   "metadata": {},
   "outputs": [
    {
     "name": "stdout",
     "output_type": "stream",
     "text": [
      "leoo\n",
      "ooel\n",
      "END\n"
     ]
    }
   ],
   "source": [
    "while True:\n",
    "    a = input()\n",
    "    \n",
    "    if a == 'END':\n",
    "        break\n",
    "        \n",
    "    print(a[::-1])"
   ]
  },
  {
   "cell_type": "markdown",
   "id": "31e5bbe1",
   "metadata": {},
   "source": [
    "### 백준 3029번"
   ]
  },
  {
   "cell_type": "code",
   "execution_count": 4,
   "id": "b3bad305",
   "metadata": {},
   "outputs": [
    {
     "name": "stdout",
     "output_type": "stream",
     "text": [
      "12:00:02\n",
      "22:22:22\n",
      "10:22:20\n"
     ]
    }
   ],
   "source": [
    "now = input()\n",
    "throw = input()\n",
    "\n",
    "h1 = int(now[:2])\n",
    "m1 = int(now[3:5])\n",
    "s1 = int(now[6:8])\n",
    "\n",
    "h2 = int(throw[:2])\n",
    "m2 = int(throw[3:5])\n",
    "s2 = int(throw[6:8])\n",
    "\n",
    "time1 = h1*3600 + m1*60 + s1 # 초 변환\n",
    "throw1 = h2 * 3600 + m2 * 60 + s2 \n",
    "\n",
    "if time1 < throw1:\n",
    "    result = throw1 - time1\n",
    "    \n",
    "else:\n",
    "    result = (throw1 + 24*3600) - time1\n",
    "    \n",
    "h3 = result // 3600\n",
    "result %= 3600\n",
    "\n",
    "m3 = result // 60\n",
    "\n",
    "result %= 60\n",
    "\n",
    "s3 = result\n",
    "\n",
    "h3 = format(h3, '02')\n",
    "m3 = format(m3, '02')\n",
    "s3 = format(s3, '02')\n",
    "\n",
    "print(str(h3) + \":\" + str(m3) + \":\" + str(s3) )"
   ]
  },
  {
   "cell_type": "markdown",
   "id": "07f72424",
   "metadata": {},
   "source": [
    "### 백준 16916번 : 부분 문자열 "
   ]
  },
  {
   "cell_type": "code",
   "execution_count": 15,
   "id": "5d186ca6",
   "metadata": {},
   "outputs": [
    {
     "name": "stdout",
     "output_type": "stream",
     "text": [
      "baekjoon\n",
      "kon\n",
      "2\n"
     ]
    }
   ],
   "source": [
    "s = str(input())\n",
    "p = str(input())\n",
    "\n",
    "if p in s:\n",
    "    print(1)\n",
    "else:\n",
    "    print(2)"
   ]
  },
  {
   "cell_type": "code",
   "execution_count": null,
   "id": "dff0afdd",
   "metadata": {},
   "outputs": [],
   "source": []
  }
 ],
 "metadata": {
  "kernelspec": {
   "display_name": "Python 3 (ipykernel)",
   "language": "python",
   "name": "python3"
  },
  "language_info": {
   "codemirror_mode": {
    "name": "ipython",
    "version": 3
   },
   "file_extension": ".py",
   "mimetype": "text/x-python",
   "name": "python",
   "nbconvert_exporter": "python",
   "pygments_lexer": "ipython3",
   "version": "3.9.13"
  }
 },
 "nbformat": 4,
 "nbformat_minor": 5
}
