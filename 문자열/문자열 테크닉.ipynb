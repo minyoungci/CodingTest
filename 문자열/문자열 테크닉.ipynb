{
 "cells": [
  {
   "cell_type": "markdown",
   "id": "ab6965fc",
   "metadata": {},
   "source": [
    "## 파이썬 문자열 뒤집기 "
   ]
  },
  {
   "cell_type": "markdown",
   "id": "e0b447f7",
   "metadata": {},
   "source": [
    "##### [::1] 로 뒤집기가 가장 자주 쓰임. \n",
    "\n",
    "##### 반복문과 리스트를 이용해서 뒤집을 수 있음"
   ]
  },
  {
   "cell_type": "code",
   "execution_count": 2,
   "id": "efcaa876",
   "metadata": {},
   "outputs": [
    {
     "name": "stdout",
     "output_type": "stream",
     "text": [
      "name       : 안녕하세요\n",
      "name[::1]  : 안녕하세요\n",
      "name[::2]  : 안하요\n",
      "name[::-1] : 요세하녕안\n",
      "name[::-2] : 요하안\n"
     ]
    }
   ],
   "source": [
    "name1 = \"안녕하세요\"\n",
    "\n",
    "name2 = name1[::1]\n",
    "name3 = name1[::2]\n",
    "name4 = name1[::-1]\n",
    "name5 = name1[::-2]\n",
    "\n",
    "print(f'name       : {name1}')\n",
    "print(f'name[::1]  : {name2}')\n",
    "print(f'name[::2]  : {name3}')\n",
    "print(f'name[::-1] : {name4}') # 우리가 원하는 역순 출력\n",
    "print(f'name[::-2] : {name5}')"
   ]
  },
  {
   "cell_type": "code",
   "execution_count": 3,
   "id": "f415b639",
   "metadata": {},
   "outputs": [
    {
     "name": "stdout",
     "output_type": "stream",
     "text": [
      "name    : 안녕하세요\n",
      "reverse : 요세하녕안\n"
     ]
    }
   ],
   "source": [
    "# for 반복문을 이용해서 문자열 뒤집기\n",
    "name = \"안녕하세요\"\n",
    "reverse_name = ''\n",
    "\n",
    "for c in name:\n",
    "    reverse_name = c + reverse_name\n",
    "\n",
    "print(f'name    : {name}')\n",
    "print(f'reverse : {reverse_name}')"
   ]
  },
  {
   "cell_type": "code",
   "execution_count": 4,
   "id": "f0016e6e",
   "metadata": {
    "scrolled": true
   },
   "outputs": [
    {
     "name": "stdout",
     "output_type": "stream",
     "text": [
      "name1     : 안녕하세요\n",
      "name_list : ['안', '녕', '하', '세', '요']\n",
      "name_list : ['요', '세', '하', '녕', '안']\n",
      "name2     : 요세하녕안\n"
     ]
    }
   ],
   "source": [
    "# 리스트의 reverse를 이용해서 문자열 뒤집기\n",
    "name1 = \"안녕하세요\"\n",
    "print(f'name1     : {name1}')\n",
    "\n",
    "# 문자열을 리스트로\n",
    "name_list = list(name1)  \n",
    "print(f'name_list : {name_list}')\n",
    "\n",
    "# 리스트 역순으로\n",
    "name_list.reverse() \n",
    "print(f'name_list : {name_list}')\n",
    "\n",
    "# 리스트를 문자열로\n",
    "name2 = ''.join(name_list)\n",
    "print(f'name2     : {name2}')"
   ]
  },
  {
   "cell_type": "code",
   "execution_count": 7,
   "id": "cae0ede1",
   "metadata": {},
   "outputs": [
    {
     "name": "stdout",
     "output_type": "stream",
     "text": [
      "...yrgnuH ma I\n",
      "...yrgnuH ma I\n"
     ]
    }
   ],
   "source": [
    "string = 'I am Hungry...'\n",
    "print(string[::-1])\n",
    "print(\"\".join(reversed(string)))"
   ]
  },
  {
   "cell_type": "markdown",
   "id": "bcc69466",
   "metadata": {},
   "source": [
    "### 문자열 for Python"
   ]
  },
  {
   "cell_type": "markdown",
   "id": "a955fe7a",
   "metadata": {},
   "source": [
    "#### strip() -> 공백을 제거하는 함수"
   ]
  },
  {
   "cell_type": "code",
   "execution_count": 5,
   "id": "dd4da602",
   "metadata": {},
   "outputs": [
    {
     "name": "stdout",
     "output_type": "stream",
     "text": [
      "asdasd\n"
     ]
    }
   ],
   "source": [
    "print('     asdasd     '.strip())"
   ]
  },
  {
   "cell_type": "code",
   "execution_count": 6,
   "id": "844299b6",
   "metadata": {},
   "outputs": [
    {
     "name": "stdout",
     "output_type": "stream",
     "text": [
      "chicken\n"
     ]
    }
   ],
   "source": [
    "print('===chicken==='.strip('='))"
   ]
  },
  {
   "cell_type": "code",
   "execution_count": null,
   "id": "87a992c1",
   "metadata": {},
   "outputs": [],
   "source": []
  }
 ],
 "metadata": {
  "kernelspec": {
   "display_name": "Python 3 (ipykernel)",
   "language": "python",
   "name": "python3"
  },
  "language_info": {
   "codemirror_mode": {
    "name": "ipython",
    "version": 3
   },
   "file_extension": ".py",
   "mimetype": "text/x-python",
   "name": "python",
   "nbconvert_exporter": "python",
   "pygments_lexer": "ipython3",
   "version": "3.9.13"
  }
 },
 "nbformat": 4,
 "nbformat_minor": 5
}
