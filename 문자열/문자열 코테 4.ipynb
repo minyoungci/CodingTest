{
 "cells": [
  {
   "cell_type": "code",
   "execution_count": 5,
   "id": "50722124",
   "metadata": {},
   "outputs": [
    {
     "name": "stdout",
     "output_type": "stream",
     "text": [
      "ljes=njak\n",
      "6\n"
     ]
    }
   ],
   "source": [
    "# 백준 2941 : 크로아티아 알파벳\n",
    "\n",
    "croatia = ['c=', 'c-', 'dz=', 'd-', 'lj', 'nj', 's=', 'z=']\n",
    "word = input()\n",
    "\n",
    "for i in croatia :\n",
    "    word = word.replace(i, '*')  # input 변수와 동일한 이름의 변수\n",
    "print(len(word))"
   ]
  },
  {
   "cell_type": "markdown",
   "id": "22e4aca6",
   "metadata": {},
   "source": [
    "##### replace( 바꿀 item, item이 바뀌는 값 )"
   ]
  },
  {
   "cell_type": "markdown",
   "id": "d573224d",
   "metadata": {},
   "source": [
    "## 백준 19583 : 싸이버개강총회\n",
    "\n",
    "* start: 개강총회 시작 시간\n",
    "* end: 개강총회 종료 시간\n",
    "* stream: 개강총회 스트리밍 종료 시간\n",
    "* attend: 출석부\n",
    "* time: 채팅 시간\n",
    "* name: 채팅 작성자"
   ]
  },
  {
   "cell_type": "code",
   "execution_count": null,
   "id": "3e6f1b84",
   "metadata": {},
   "outputs": [],
   "source": [
    "import sys\n",
    "input = sys.stdin.readline\n",
    "\n",
    "start, end, stream = input().split()\n",
    "start = int(start[:2] + start[3:])\n",
    "end = int(end[:2] + end[3:])\n",
    "stream = int(stream[:2] + stream[3:])\n",
    "\n",
    "attend = set()\n",
    "cnt = 0\n",
    "\n",
    "while True:\n",
    "    try:\n",
    "        time, name = input().split()\n",
    "        time = int(time[:2] + time[3:])\n",
    "        if time <= start:\n",
    "            attend.add(name)\n",
    "        elif end <= time <= stream and name in attend:\n",
    "            attend.remove(name)\n",
    "            cnt += 1\n",
    "    except:\n",
    "        break\n",
    "\n",
    "print(cnt)"
   ]
  }
 ],
 "metadata": {
  "kernelspec": {
   "display_name": "Python 3 (ipykernel)",
   "language": "python",
   "name": "python3"
  },
  "language_info": {
   "codemirror_mode": {
    "name": "ipython",
    "version": 3
   },
   "file_extension": ".py",
   "mimetype": "text/x-python",
   "name": "python",
   "nbconvert_exporter": "python",
   "pygments_lexer": "ipython3",
   "version": "3.9.13"
  }
 },
 "nbformat": 4,
 "nbformat_minor": 5
}
