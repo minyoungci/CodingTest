{
 "cells": [
  {
   "cell_type": "code",
   "execution_count": 5,
   "id": "50722124",
   "metadata": {},
   "outputs": [
    {
     "name": "stdout",
     "output_type": "stream",
     "text": [
      "ljes=njak\n",
      "6\n"
     ]
    }
   ],
   "source": [
    "# 백준 2941 : 크로아티아 알파벳\n",
    "\n",
    "croatia = ['c=', 'c-', 'dz=', 'd-', 'lj', 'nj', 's=', 'z=']\n",
    "word = input()\n",
    "\n",
    "for i in croatia :\n",
    "    word = word.replace(i, '*')  # input 변수와 동일한 이름의 변수\n",
    "print(len(word))"
   ]
  },
  {
   "cell_type": "markdown",
   "id": "22e4aca6",
   "metadata": {},
   "source": [
    "##### replace( 바꿀 item, item이 바뀌는 값 )"
   ]
  },
  {
   "cell_type": "markdown",
   "id": "d573224d",
   "metadata": {},
   "source": [
    "## 백준 19583 : 싸이버개강총회\n",
    "\n",
    "* start: 개강총회 시작 시간\n",
    "* end: 개강총회 종료 시간\n",
    "* stream: 개강총회 스트리밍 종료 시간\n",
    "* attend: 출석부\n",
    "* time: 채팅 시간\n",
    "* name: 채팅 작성자"
   ]
  },
  {
   "cell_type": "code",
   "execution_count": null,
   "id": "3e6f1b84",
   "metadata": {},
   "outputs": [],
   "source": [
    "import sys\n",
    "input = sys.stdin.readline\n",
    "\n",
    "start, end, stream = input().split()\n",
    "start = int(start[:2] + start[3:])\n",
    "end = int(end[:2] + end[3:])\n",
    "stream = int(stream[:2] + stream[3:])\n",
    "\n",
    "attend = set()\n",
    "cnt = 0\n",
    "\n",
    "while True:\n",
    "    try:\n",
    "        time, name = input().split()\n",
    "        time = int(time[:2] + time[3:])\n",
    "        if time <= start:\n",
    "            attend.add(name)\n",
    "        elif end <= time <= stream and name in attend:\n",
    "            attend.remove(name)\n",
    "            cnt += 1\n",
    "    except:\n",
    "        break\n",
    "\n",
    "print(cnt)"
   ]
  },
  {
   "cell_type": "markdown",
   "id": "868fb296",
   "metadata": {},
   "source": [
    "## 백준2204: 도비의 난독증 테스트"
   ]
  },
  {
   "cell_type": "code",
   "execution_count": 13,
   "id": "15e9fed6",
   "metadata": {},
   "outputs": [
    {
     "name": "stdout",
     "output_type": "stream",
     "text": [
      "0\n"
     ]
    }
   ],
   "source": [
    "while True:\n",
    "    \n",
    "    n = int(input())\n",
    "    \n",
    "    if n == 0:\n",
    "        break\n",
    "        \n",
    "    else:\n",
    "        words = []\n",
    "        \n",
    "        for word_index in range(n):\n",
    "            word = input()\n",
    "            \n",
    "            words.append(word)\n",
    "            \n",
    "        words.sort(key=lambda word: word.lower())\n",
    "        \n",
    "        print(words[0])"
   ]
  },
  {
   "cell_type": "markdown",
   "id": "c3823052",
   "metadata": {},
   "source": [
    "## 백준 1159 : 농구 경기"
   ]
  },
  {
   "cell_type": "code",
   "execution_count": null,
   "id": "da5861e1",
   "metadata": {},
   "outputs": [],
   "source": [
    "n = int(input())\n",
    "\n",
    "res = []\n",
    "\n",
    "for _ in range(n):\n",
    "    name = input()\n",
    "    res.append(name[0])\n",
    "    \n",
    "count = 0\n",
    "    \n",
    "for i in range(len(res)+1):\n",
    "    if res[i] == res[i+1]:\n",
    "        count += 1\n",
    "        \n",
    "        if count >= 5:\n",
    "            "
   ]
  },
  {
   "cell_type": "code",
   "execution_count": 16,
   "id": "5bc1e342",
   "metadata": {
    "scrolled": true
   },
   "outputs": [
    {
     "name": "stdout",
     "output_type": "stream",
     "text": [
      "4\n",
      "j\n",
      "j\n",
      "j\n",
      "j\n",
      "PREDAJA\n"
     ]
    }
   ],
   "source": [
    "from collections import Counter\n",
    "\n",
    "n = int(input())\n",
    "player = []\n",
    "fn = []\n",
    "\n",
    "cnt = 0\n",
    "\n",
    "for i in range(n):\n",
    "    a = input()\n",
    "    player.append(a[0])\n",
    "    \n",
    "player_count = Counter(player)\n",
    "\n",
    "for i,j in player_count.items():\n",
    "    if j >= 5:\n",
    "        fn.append(i)\n",
    "        cnt += 1\n",
    "        \n",
    "fn.sort()\n",
    "\n",
    "if cnt ==0:\n",
    "    print(\"PREDAJA\")\n",
    "    \n",
    "else:\n",
    "    for i in fn:\n",
    "        print(i, end=\"\")"
   ]
  },
  {
   "cell_type": "code",
   "execution_count": 17,
   "id": "5388800a",
   "metadata": {},
   "outputs": [
    {
     "data": {
      "text/plain": [
       "Counter({'j': 4})"
      ]
     },
     "execution_count": 17,
     "metadata": {},
     "output_type": "execute_result"
    }
   ],
   "source": [
    "player_count"
   ]
  }
 ],
 "metadata": {
  "kernelspec": {
   "display_name": "Python 3 (ipykernel)",
   "language": "python",
   "name": "python3"
  },
  "language_info": {
   "codemirror_mode": {
    "name": "ipython",
    "version": 3
   },
   "file_extension": ".py",
   "mimetype": "text/x-python",
   "name": "python",
   "nbconvert_exporter": "python",
   "pygments_lexer": "ipython3",
   "version": "3.9.13"
  }
 },
 "nbformat": 4,
 "nbformat_minor": 5
}
